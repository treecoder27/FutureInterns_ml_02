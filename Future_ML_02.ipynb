{
 "cells": [
  {
   "cell_type": "markdown",
   "id": "187dbf5a",
   "metadata": {},
   "source": [
    "### Import dependencies"
   ]
  },
  {
   "cell_type": "code",
   "execution_count": null,
   "id": "407257f2",
   "metadata": {},
   "outputs": [],
   "source": [
    "import numpy as np\n",
    "import pandas as pd\n",
    "import matplotlib.pyplot as plt\n",
    "import seaborn as sns\n",
    "import pickle\n",
    "\n",
    "from sklearn.preprocessing import LabelEncoder\n",
    "from imblearn.over_sampling import SMOTE\n",
    "\n",
    "from sklearn.model_selection import train_test_split, cross_val_score\n",
    "from sklearn.tree import DecisionTreeClassifier\n",
    "from sklearn.ensemble import RandomForestClassifier\n",
    "from xgboost import XGBClassifier, plot_importance\n",
    "from sklearn.metrics import accuracy_score, confusion_matrix, classification_report\n",
    "\n"
   ]
  },
  {
   "cell_type": "markdown",
   "id": "b6dcf08c",
   "metadata": {},
   "source": [
    "### Load and understand data"
   ]
  },
  {
   "cell_type": "code",
   "execution_count": null,
   "id": "5430d94b",
   "metadata": {},
   "outputs": [],
   "source": [
    "df = pd.read_csv(\"//wsl.localhost/Ubuntu-24.04/home/matthew/repos/Churn_Prediction_System/Data/customer_churn_dataset.csv\")\n"
   ]
  },
  {
   "cell_type": "code",
   "execution_count": null,
   "id": "9b1463cf",
   "metadata": {},
   "outputs": [],
   "source": [
    "df.shape"
   ]
  },
  {
   "cell_type": "code",
   "execution_count": null,
   "id": "00a1bbc6",
   "metadata": {},
   "outputs": [],
   "source": [
    "df.head()"
   ]
  },
  {
   "cell_type": "code",
   "execution_count": null,
   "id": "2d249615",
   "metadata": {},
   "outputs": [],
   "source": [
    "df.info()"
   ]
  },
  {
   "cell_type": "code",
   "execution_count": null,
   "id": "a1decb17",
   "metadata": {},
   "outputs": [],
   "source": [
    "# drop customerID column because it is not not needed for modelling\n",
    "df.drop(columns=[\"customerID\"], inplace=True)\n",
    "\n"
   ]
  },
  {
   "cell_type": "code",
   "execution_count": null,
   "id": "7b7de2a9",
   "metadata": {},
   "outputs": [],
   "source": [
    "df.head(2)"
   ]
  },
  {
   "cell_type": "code",
   "execution_count": null,
   "id": "e014060c",
   "metadata": {},
   "outputs": [],
   "source": [
    "# check unique values for each column\n",
    "for col in df.columns:\n",
    "    print(col, df[col].unique())\n",
    "    print(\".\" * 100)"
   ]
  },
  {
   "cell_type": "code",
   "execution_count": null,
   "id": "06a52128",
   "metadata": {},
   "outputs": [],
   "source": [
    "## check for missing values\n",
    "df.isnull().sum()"
   ]
  },
  {
   "cell_type": "code",
   "execution_count": null,
   "id": "e994bea2",
   "metadata": {},
   "outputs": [],
   "source": [
    "df[df[\"TotalCharges\"] == \" \"]"
   ]
  },
  {
   "cell_type": "code",
   "execution_count": null,
   "id": "322cda5f",
   "metadata": {},
   "outputs": [],
   "source": [
    "# check number of emtpy spaces in TotalCharges column\n",
    "\n",
    "len(df[df[\"TotalCharges\"] == \" \"])"
   ]
  },
  {
   "cell_type": "code",
   "execution_count": null,
   "id": "bd8e0e26",
   "metadata": {},
   "outputs": [],
   "source": [
    "# replace the emtpy spaces with 0.0\n",
    "df[\"TotalCharges\"] = df[\"TotalCharges\"].replace({\" \" : \"0.0\"})"
   ]
  },
  {
   "cell_type": "code",
   "execution_count": null,
   "id": "88dee943",
   "metadata": {},
   "outputs": [],
   "source": [
    "# convert all the values of the TotalCharges column to float\n",
    "df['TotalCharges'] = df[\"TotalCharges\"].astype(float)\n",
    "#df"
   ]
  },
  {
   "cell_type": "code",
   "execution_count": null,
   "id": "81de52f8",
   "metadata": {},
   "outputs": [],
   "source": [
    "df.info()"
   ]
  },
  {
   "cell_type": "code",
   "execution_count": null,
   "id": "cd01c2d7",
   "metadata": {},
   "outputs": [],
   "source": [
    "# check the class distribution of target column\n",
    "print(df[\"Churn\"].value_counts())"
   ]
  },
  {
   "cell_type": "markdown",
   "id": "2ca194af",
   "metadata": {},
   "source": [
    "#### Insights so far\n",
    "* customerID has been removed because it is not need for modelling\n",
    "* No missing values in the dataset\n",
    "* Missing values in the TotalCharges colunm were replaced with 0s\n",
    "* class inbalance in Churn column"
   ]
  },
  {
   "cell_type": "markdown",
   "id": "e6ba3020",
   "metadata": {},
   "source": [
    "### Exploratory data analysis"
   ]
  },
  {
   "cell_type": "code",
   "execution_count": null,
   "id": "c511c1b9",
   "metadata": {},
   "outputs": [],
   "source": [
    "df.columns"
   ]
  },
  {
   "cell_type": "code",
   "execution_count": null,
   "id": "e1788b63",
   "metadata": {},
   "outputs": [],
   "source": [
    "df.head(2)"
   ]
  },
  {
   "cell_type": "markdown",
   "id": "78622e8d",
   "metadata": {},
   "source": [
    "### Check basic statistic of the numerical columns of the  dataset"
   ]
  },
  {
   "cell_type": "code",
   "execution_count": null,
   "id": "724e27ff",
   "metadata": {},
   "outputs": [],
   "source": [
    "\n",
    "df.describe()"
   ]
  },
  {
   "cell_type": "markdown",
   "id": "59313e23",
   "metadata": {},
   "source": [
    "### Analyse numerical features"
   ]
  },
  {
   "cell_type": "code",
   "execution_count": null,
   "id": "26136a9e",
   "metadata": {},
   "outputs": [],
   "source": [
    "def plot_histogram(df, column_name):\n",
    "    plt.figure(figsize=(5, 3))\n",
    "    sns.histplot(df[column_name], kde=True)\n",
    "    plt.title(f\"Distribution of {column_name}\")\n",
    "    \n",
    "    # compute mean and median values for the columns\n",
    "    col_mean  = df[column_name].mean()\n",
    "    col_median = df[column_name].median()\n",
    "    \n",
    "    # add vertical lines for mean and median\n",
    "    plt.axvline(col_mean, color=\"red\", linestyle=\"--\", label=\"Mean\")\n",
    "    plt.axvline(col_median, color=\"green\", linestyle=\"-\", label=\"Median\")\n",
    "    \n",
    "    plt.legend()\n",
    "    plt.show()\n",
    "    \n",
    "plot_histogram(df,\"tenure\")\n",
    "    "
   ]
  },
  {
   "cell_type": "code",
   "execution_count": null,
   "id": "a11a800e",
   "metadata": {},
   "outputs": [],
   "source": [
    "plot_histogram(df, \"TotalCharges\")"
   ]
  },
  {
   "cell_type": "code",
   "execution_count": null,
   "id": "6af37cfa",
   "metadata": {},
   "outputs": [],
   "source": [
    "def plot_boxplot(df, column_name):\n",
    "    plt.Figure(figsize=(5,3))\n",
    "    sns.boxplot(y=df[column_name])\n",
    "    plt.title(f\"Boxplot of {column_name}\")\n",
    "    plt.ylabel(column_name)\n",
    "    plt.show()"
   ]
  },
  {
   "cell_type": "code",
   "execution_count": null,
   "id": "c9dde594",
   "metadata": {},
   "outputs": [],
   "source": [
    "plot_boxplot(df, \"tenure\")"
   ]
  },
  {
   "cell_type": "code",
   "execution_count": null,
   "id": "d725e303",
   "metadata": {},
   "outputs": [],
   "source": [
    "plot_boxplot(df,\"TotalCharges\")"
   ]
  },
  {
   "cell_type": "code",
   "execution_count": null,
   "id": "50508337",
   "metadata": {},
   "outputs": [],
   "source": [
    "plot_boxplot(df, \"MonthlyCharges\")"
   ]
  },
  {
   "cell_type": "markdown",
   "id": "dc5186de",
   "metadata": {},
   "source": [
    "### correlation headmap for numerical columns"
   ]
  },
  {
   "cell_type": "code",
   "execution_count": null,
   "id": "11f0bb3a",
   "metadata": {},
   "outputs": [],
   "source": [
    "plt.figure(figsize=(8,4))\n",
    "sns.heatmap(df[[\"tenure\",\"MonthlyCharges\",\"TotalCharges\"]].corr(),annot=True,cmap=\"coolwarm\", fmt=\".2f\")\n",
    "plt.title(\"Correlation Heatmap\")\n",
    "plt.show()"
   ]
  },
  {
   "cell_type": "markdown",
   "id": "433716ff",
   "metadata": {},
   "source": [
    "### Categorical Features Analysis"
   ]
  },
  {
   "cell_type": "code",
   "execution_count": null,
   "id": "3199a406",
   "metadata": {},
   "outputs": [],
   "source": [
    "df.columns"
   ]
  },
  {
   "cell_type": "code",
   "execution_count": null,
   "id": "e854800e",
   "metadata": {},
   "outputs": [],
   "source": [
    "df.info()"
   ]
  },
  {
   "cell_type": "markdown",
   "id": "7762c6ab",
   "metadata": {},
   "source": [
    "#### count plot for categorical data"
   ]
  },
  {
   "cell_type": "code",
   "execution_count": null,
   "id": "8c819651",
   "metadata": {},
   "outputs": [],
   "source": [
    "obj_cols = df.select_dtypes(include=\"object\").columns.to_list()\n",
    "obj_cols = [\"SeniorCitizen\"] + obj_cols\n",
    "\n",
    "for col in obj_cols:\n",
    "    plt.figure(figsize=(5,3))\n",
    "    sns.countplot(x=df[col])\n",
    "    plt.title(f\"Count Plot of {col}\")\n",
    "    plt.show()\n",
    "\n",
    "\n",
    "obj_cols"
   ]
  },
  {
   "cell_type": "markdown",
   "id": "0a9e7469",
   "metadata": {},
   "source": [
    "### preprocess the data"
   ]
  },
  {
   "cell_type": "code",
   "execution_count": null,
   "id": "b707ea65",
   "metadata": {},
   "outputs": [],
   "source": [
    "df.head(3)"
   ]
  },
  {
   "cell_type": "markdown",
   "id": "bb85c8f4",
   "metadata": {},
   "source": [
    "##### label encoding of target column"
   ]
  },
  {
   "cell_type": "code",
   "execution_count": null,
   "id": "f5d6e28d",
   "metadata": {},
   "outputs": [],
   "source": [
    "df[\"Churn\"] = df[\"Churn\"].replace({\"Yes\": 1, \"No\":0})"
   ]
  },
  {
   "cell_type": "code",
   "execution_count": null,
   "id": "a5caeb96",
   "metadata": {},
   "outputs": [],
   "source": [
    "df.head(3)"
   ]
  },
  {
   "cell_type": "code",
   "execution_count": null,
   "id": "50e39ab6",
   "metadata": {},
   "outputs": [],
   "source": [
    "print(df[\"Churn\"].value_counts())"
   ]
  },
  {
   "cell_type": "markdown",
   "id": "891fcb99",
   "metadata": {},
   "source": [
    "### label Encoding of categorical Features"
   ]
  },
  {
   "cell_type": "code",
   "execution_count": null,
   "id": "3631d501",
   "metadata": {},
   "outputs": [],
   "source": [
    "# identify columns with object data types\n",
    "object_columns = df.select_dtypes(include=\"object\").columns\n",
    "print(object_columns)"
   ]
  },
  {
   "cell_type": "code",
   "execution_count": null,
   "id": "b5e78348",
   "metadata": {},
   "outputs": [],
   "source": [
    "# initialize a dictionary to save encoders\n",
    "encoders = {}\n",
    "\n",
    "# apply label encoding and store the encoders\n",
    "for column in object_columns:\n",
    "    label_encoder = LabelEncoder()\n",
    "    df[column] = label_encoder.fit_transform(df[column])\n",
    "    encoders[column] = label_encoder\n",
    "    \n",
    "    # save the encoders to a pickle file\n",
    "    with open(\"encoders.pkl\", \"wb\") as f:\n",
    "        pickle.dump(encoders, f)\n",
    "        \n",
    "    "
   ]
  },
  {
   "cell_type": "code",
   "execution_count": null,
   "id": "58211763",
   "metadata": {},
   "outputs": [],
   "source": [
    "encoders"
   ]
  },
  {
   "cell_type": "code",
   "execution_count": null,
   "id": "822a7bc3",
   "metadata": {},
   "outputs": [],
   "source": [
    "df.head(3)"
   ]
  },
  {
   "cell_type": "markdown",
   "id": "af3c221b",
   "metadata": {},
   "source": [
    "### Training and test data split"
   ]
  },
  {
   "cell_type": "code",
   "execution_count": null,
   "id": "b989c9a5",
   "metadata": {},
   "outputs": [],
   "source": [
    "# split features and target\n",
    "x = df.drop(columns=\"Churn\")\n",
    "y = df[\"Churn\"] # target feature\n",
    "\n"
   ]
  },
  {
   "cell_type": "code",
   "execution_count": null,
   "id": "32374dac",
   "metadata": {},
   "outputs": [],
   "source": [
    "print(x)\n"
   ]
  },
  {
   "cell_type": "code",
   "execution_count": null,
   "id": "c4396a9d",
   "metadata": {},
   "outputs": [],
   "source": [
    "print(y)"
   ]
  },
  {
   "cell_type": "markdown",
   "id": "ede6d2ac",
   "metadata": {},
   "source": [
    "### Encode target labels"
   ]
  },
  {
   "cell_type": "code",
   "execution_count": null,
   "id": "5d5485eb",
   "metadata": {},
   "outputs": [],
   "source": [
    "label_encode = LabelEncoder()\n",
    "y_encoded = label_encoder.fit_transform(y)"
   ]
  },
  {
   "cell_type": "markdown",
   "id": "8182e921",
   "metadata": {},
   "source": [
    "### split training and test data"
   ]
  },
  {
   "cell_type": "code",
   "execution_count": null,
   "id": "5620d09d",
   "metadata": {},
   "outputs": [],
   "source": [
    "# 80% of tha data for training and 20% for testing\n",
    "x_train, x_test, y_train, y_test = train_test_split(x,y_encoded, test_size=0.2, random_state=42, stratify=y_encoded)"
   ]
  },
  {
   "cell_type": "code",
   "execution_count": null,
   "id": "04353790",
   "metadata": {},
   "outputs": [],
   "source": [
    "print(y_train.shape)"
   ]
  },
  {
   "cell_type": "markdown",
   "id": "675d4b73",
   "metadata": {},
   "source": [
    "### synthetic minority oversampling technigue using SMOTE"
   ]
  },
  {
   "cell_type": "code",
   "execution_count": null,
   "id": "f86c8e34",
   "metadata": {},
   "outputs": [],
   "source": [
    "smote = SMOTE(random_state=42)"
   ]
  },
  {
   "cell_type": "code",
   "execution_count": null,
   "id": "46fb8c0a",
   "metadata": {},
   "outputs": [],
   "source": [
    "x_train_smote, y_train_smote = smote.fit_resample(x_train, y_train)"
   ]
  },
  {
   "cell_type": "markdown",
   "id": "c9d97f9d",
   "metadata": {},
   "source": [
    "#### Check new class distribution"
   ]
  },
  {
   "cell_type": "code",
   "execution_count": null,
   "id": "7c62bca7",
   "metadata": {},
   "outputs": [],
   "source": [
    "\n",
    "print(pd.Series(y_train_smote).value_counts())"
   ]
  },
  {
   "cell_type": "markdown",
   "id": "b70451e4",
   "metadata": {},
   "source": [
    "#### visualize class distribution before and after SMOTE "
   ]
  },
  {
   "cell_type": "code",
   "execution_count": null,
   "id": "32a4911e",
   "metadata": {},
   "outputs": [],
   "source": [
    "sns.countplot(x=y_train)\n",
    "plt.title(\"Before SMOTE\")\n",
    "plt.show()\n",
    "\n",
    "sns.countplot(x=y_train_smote)\n",
    "plt.title(\"After SMOTE\")\n",
    "plt.show()\n"
   ]
  },
  {
   "cell_type": "markdown",
   "id": "cf191d1b",
   "metadata": {},
   "source": [
    "### Train the model"
   ]
  },
  {
   "cell_type": "markdown",
   "id": "03a61b91",
   "metadata": {},
   "source": [
    "##### Training Models"
   ]
  },
  {
   "cell_type": "markdown",
   "id": "f197e3de",
   "metadata": {},
   "source": [
    "##### Define  Models and Parameter Grids\n",
    "\n"
   ]
  },
  {
   "cell_type": "code",
   "execution_count": null,
   "id": "3b3d7c13",
   "metadata": {},
   "outputs": [],
   "source": [
    "\n",
    "models = {\n",
    "    \"Decision Trees\": DecisionTreeClassifier(random_state=42),\n",
    "    \"Random Forest\": RandomForestClassifier(random_state=42),\n",
    "    \"XGBoost\": XGBClassifier(random_state=42, use_label_encoder=False, eval_metric='logloss')\n",
    "}\n",
    "\n",
    "param_grids = {\n",
    "    \"Decision Trees\": {\n",
    "        \"max_depth\": [None, 5, 10],\n",
    "        \"min_samples_split\": [2, 5, 10],\n",
    "    },\n",
    "    \"Random Forest\": {\n",
    "        \"n_estimators\": [100, 200],\n",
    "        \"max_depth\": [None, 10, 20],\n",
    "    },\n",
    "    \"XGBoost\": {\n",
    "        \"n_estimators\": [100, 200],\n",
    "        \"learning_rate\": [0.01, 0.1, 0.2],\n",
    "    }\n",
    "}\n"
   ]
  },
  {
   "cell_type": "markdown",
   "id": "11adf86a",
   "metadata": {},
   "source": [
    "#### Perform RandomizedSearchCV for Each Mode"
   ]
  },
  {
   "cell_type": "code",
   "execution_count": null,
   "id": "9d2471e6",
   "metadata": {},
   "outputs": [],
   "source": [
    "from sklearn.model_selection import RandomizedSearchCV\n",
    "from sklearn.metrics import classification_report\n",
    "\n",
    "cv_scores = {}\n",
    "\n",
    "for model_name, model in models.items():\n",
    "    print(f\"Tuning {model_name}...\")\n",
    "\n",
    "    search = RandomizedSearchCV(\n",
    "        model,\n",
    "        param_grids[model_name],\n",
    "        cv=5,\n",
    "        n_iter=10,\n",
    "        scoring=\"accuracy\",\n",
    "        n_jobs=-1,\n",
    "        random_state=42\n",
    "    )\n",
    "    \n",
    "    search.fit(x_train_smote, y_train_smote)  # Using SMOTE-resampled data\n",
    "    \n",
    "    print(f\"Best parameters for {model_name}: {search.best_params_}\")\n",
    "    print(f\"Best cross-validation accuracy: {search.best_score_:.2f}\")\n",
    "    \n",
    "    cv_scores[model_name] = {\n",
    "        \"best_estimator\": search.best_estimator_,\n",
    "        \"best_params\": search.best_params_,\n",
    "        \"best_score\": search.best_score_\n",
    "    }\n",
    "    print(\"-\" * 100)\n",
    "    \n",
    "    \n",
    "import warnings\n",
    "\n",
    "# Suppress all warnings\n",
    "warnings.filterwarnings(\"ignore\")\n",
    "\n"
   ]
  },
  {
   "cell_type": "markdown",
   "id": "7dbc8698",
   "metadata": {},
   "source": [
    "#### Evaluate Best Model on Test Set"
   ]
  },
  {
   "cell_type": "code",
   "execution_count": null,
   "id": "2b4657be",
   "metadata": {},
   "outputs": [],
   "source": [
    "best_rf = cv_scores[\"Random Forest\"][\"best_estimator\"]\n",
    "y_pred_rf = best_rf.predict(x_test)\n",
    "\n",
    "print(\"Evaluation on Test Set:\")\n",
    "print(classification_report(y_test, y_pred_rf))\n"
   ]
  },
  {
   "cell_type": "markdown",
   "id": "c3a495f8",
   "metadata": {},
   "source": [
    "##### random forest gives the highest accuracy compared to other models with default parameters"
   ]
  },
  {
   "cell_type": "code",
   "execution_count": null,
   "id": "b9cba157",
   "metadata": {},
   "outputs": [],
   "source": [
    "# saving Random Forest's best estimator from cv_scores dictionary\n",
    "best_model = cv_scores[\"Random Forest\"][\"best_estimator\"]\n",
    "\n",
    "model_data = {\n",
    "    \"model\": best_model,\n",
    "    \"feature_names\": x.columns.tolist(),\n",
    "    \"encoder\":label_encode # saving the encoder\n",
    "}\n",
    "\n",
    "with open(\"customer_churn_model.pkl\", \"wb\") as f:\n",
    "    pickle.dump(model_data, f)\n",
    "\n"
   ]
  },
  {
   "cell_type": "markdown",
   "id": "b06bf7d8",
   "metadata": {},
   "source": [
    "#### load the saved model and build a predictive system"
   ]
  },
  {
   "cell_type": "code",
   "execution_count": null,
   "id": "f95ce131",
   "metadata": {},
   "outputs": [],
   "source": [
    "# Load the model\n",
    "with open(\"customer_churn_model.pkl\", \"rb\") as f:\n",
    "    model_data = pickle.load(f)\n",
    "\n",
    "loaded_model = model_data[\"model\"]\n",
    "feature_names = model_data[\"feature_names\"]\n",
    "label_encode = model_data[\"encoder\"]\n"
   ]
  },
  {
   "cell_type": "markdown",
   "id": "95659915",
   "metadata": {},
   "source": [
    "#### Visualizing Feature Importance"
   ]
  },
  {
   "cell_type": "code",
   "execution_count": null,
   "id": "3c7762b2",
   "metadata": {},
   "outputs": [],
   "source": [
    "# Random forest\n",
    "feature_importances = pd.Series(loaded_model.feature_importances_, index=feature_names)\n",
    "feature_importances = feature_importances.sort_values(ascending=True)\n",
    "\n",
    "\n",
    "plt.figure(figsize=(5, 3))\n",
    "feature_importances.plot(kind='barh')\n",
    "plt.title(\"Feature Importance (Random Forest)\")\n",
    "plt.xlabel(\"Importance Score\")\n",
    "plt.show()\n",
    "\n",
    "# save to csv\n",
    "feature_importances_df = feature_importances.reset_index()\n",
    "feature_importances_df.columns = ['Feature', 'Importance']\n",
    "\n",
    "feature_importances_df.to_csv(r\"\\\\wsl.localhost\\Ubuntu-24.04\\home\\matthew\\repos\\Churn_Prediction_System\\Jupyter_Notebook\\feature_importance.csv\", index=False)\n"
   ]
  },
  {
   "cell_type": "code",
   "execution_count": null,
   "id": "89c0ab3a",
   "metadata": {},
   "outputs": [],
   "source": [
    "# XGBoost\n",
    "xgb = XGBClassifier()\n",
    "xgb.fit(x_train, y_train)\n",
    "\n",
    "plot_importance(xgb)\n",
    "plt.show()\n"
   ]
  },
  {
   "cell_type": "markdown",
   "id": "1d000d52",
   "metadata": {},
   "source": [
    "#### Visualizing Model Evaluation Results"
   ]
  },
  {
   "cell_type": "code",
   "execution_count": null,
   "id": "0708a0a5",
   "metadata": {},
   "outputs": [],
   "source": [
    "from sklearn.metrics import confusion_matrix, ConfusionMatrixDisplay\n",
    "\n",
    "y_pred = loaded_model.predict(x_test)\n",
    "\n",
    "cm = confusion_matrix(y_test, y_pred)\n",
    "disp = ConfusionMatrixDisplay(confusion_matrix=cm)\n",
    "disp.plot(cmap=plt.cm.Blues)\n",
    "plt.title(\"Confusion Matrix\")\n",
    "plt.show()\n"
   ]
  },
  {
   "cell_type": "markdown",
   "id": "3f0e4587",
   "metadata": {},
   "source": [
    "### prepare and encode new input before prediction"
   ]
  },
  {
   "cell_type": "code",
   "execution_count": null,
   "id": "e99f323a",
   "metadata": {},
   "outputs": [],
   "source": [
    "with open(\"encoders.pkl\", \"rb\") as f:\n",
    "    encoders = pickle.load(f)\n"
   ]
  },
  {
   "cell_type": "code",
   "execution_count": null,
   "id": "43b96ea2",
   "metadata": {},
   "outputs": [],
   "source": [
    "def apply_encodings(input_df, encoders):\n",
    "    \n",
    "   # apply label encodings to all columns in encoders dictionary.\n",
    "    for column, encoder in encoders.items():\n",
    "        if column in input_df.columns:\n",
    "            input_df[column] = encoder.transform(input_df[column])\n",
    "    return input_df\n"
   ]
  },
  {
   "cell_type": "code",
   "execution_count": null,
   "id": "45780842",
   "metadata": {},
   "outputs": [],
   "source": [
    "# New customer data dictionary\n",
    "input_data = {\n",
    "    'gender': ['Male'],\n",
    "    'SeniorCitizen': [0],\n",
    "    'Partner': ['Yes'],\n",
    "    'Dependents': ['No'],\n",
    "    'tenure': [5],\n",
    "    'PhoneService': ['Yes'],\n",
    "    'MultipleLines': ['No'],\n",
    "    'InternetService': ['Fiber optic'],\n",
    "    'OnlineSecurity': ['No'],\n",
    "    'OnlineBackup': ['Yes'],\n",
    "    'DeviceProtection': ['No'],\n",
    "    'TechSupport': ['No'],\n",
    "    'StreamingTV': ['No'],\n",
    "    'StreamingMovies': ['No'],\n",
    "    'Contract': ['Month-to-month'],\n",
    "    'PaperlessBilling': ['Yes'],\n",
    "    'PaymentMethod': ['Electronic check'],\n",
    "    'MonthlyCharges': [70.35],\n",
    "    'TotalCharges': [350.5],\n",
    "}\n",
    "\n",
    "# convert to DataFrame\n",
    "input_df = pd.DataFrame(input_data)\n",
    "\n",
    "# ensure columns match order\n",
    "input_df = input_df[feature_names]\n",
    "\n",
    "# apply all encodings at once\n",
    "input_df = apply_encodings(input_df, encoders)\n"
   ]
  },
  {
   "cell_type": "code",
   "execution_count": null,
   "id": "ae70b7f3",
   "metadata": {},
   "outputs": [],
   "source": [
    "# check data types of columns to be sure all are encoded successfully\n",
    "\n",
    "print(input_df.dtypes)\n",
    "print(input_df.head())\n"
   ]
  },
  {
   "cell_type": "markdown",
   "id": "f2df15fd",
   "metadata": {},
   "source": [
    "#### make a prediction"
   ]
  },
  {
   "cell_type": "code",
   "execution_count": null,
   "id": "d21dc0e7",
   "metadata": {},
   "outputs": [],
   "source": [
    "# Predict\n",
    "prediction = loaded_model.predict(input_df)\n",
    "print(\"Churn Prediction:\", prediction[0])  # 0 = No, 1 = Yes"
   ]
  },
  {
   "cell_type": "markdown",
   "id": "a70dd5b2",
   "metadata": {},
   "source": [
    "#### code to to generate csv for powerBI"
   ]
  },
  {
   "cell_type": "code",
   "execution_count": null,
   "id": "856972f9",
   "metadata": {},
   "outputs": [],
   "source": [
    "\n",
    "# load the trained model and feature names\n",
    "with open(\"customer_churn_model.pkl\", \"rb\") as f:\n",
    "    model_data = pickle.load(f)\n",
    "\n",
    "model = model_data[\"model\"]\n",
    "feature_names = model_data[\"feature_names\"]\n",
    "\n",
    "with open(\"encoders.pkl\", \"rb\") as f:\n",
    "    encoders = pickle.load(f)\n",
    "\n",
    "batch_data = pd.read_csv(r\"\\\\wsl.localhost\\Ubuntu-24.04\\home\\matthew\\repos\\Churn_Prediction_System\\Data\\customer_churn_dataset.csv\")\n",
    "\n",
    "# clean whitespace and convert columns\n",
    "batch_data.replace(r'^\\s*$', pd.NA, regex=True, inplace=True)\n",
    "batch_data['TotalCharges'] = pd.to_numeric(batch_data['TotalCharges'], errors='coerce')\n",
    "batch_data['MonthlyCharges'] = pd.to_numeric(batch_data['MonthlyCharges'], errors='coerce')\n",
    "batch_data.fillna(0, inplace=True)\n",
    "\n",
    "# select only the feature columns for prediction\n",
    "batch_data_features = batch_data[feature_names].copy()\n",
    "\n",
    "batch_data_encoded = apply_encodings(batch_data_features, encoders)\n",
    "\n",
    "batch_data['Churn Prediction'] = model.predict(batch_data_encoded[feature_names])\n",
    "\n",
    "# select columns to export for Power BI\n",
    "powerbi_data = batch_data[['customerID','gender', 'SeniorCitizen', 'Partner',\n",
    "                           'tenure', 'Contract', 'PaymentMethod', 'MonthlyCharges', 'TotalCharges', \"Churn\"]]\n",
    "\n",
    "powerbi_data.to_csv(\"/home/matthew/repos/Churn_Prediction_System/churn_predictions_for_powerbi.csv\", index=False)\n",
    "\n",
    "print(\"Churn predictions CSV for Power BI generated successfully.\")\n"
   ]
  },
  {
   "cell_type": "code",
   "execution_count": null,
   "id": "e0b2726a",
   "metadata": {},
   "outputs": [],
   "source": []
  }
 ],
 "metadata": {
  "kernelspec": {
   "display_name": "Python 3",
   "language": "python",
   "name": "python3"
  },
  "language_info": {
   "codemirror_mode": {
    "name": "ipython",
    "version": 3
   },
   "file_extension": ".py",
   "mimetype": "text/x-python",
   "name": "python",
   "nbconvert_exporter": "python",
   "pygments_lexer": "ipython3",
   "version": "3.11.9"
  }
 },
 "nbformat": 4,
 "nbformat_minor": 5
}
